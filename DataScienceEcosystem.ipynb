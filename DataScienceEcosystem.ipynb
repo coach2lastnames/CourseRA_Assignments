{
 "cells": [
  {
   "cell_type": "markdown",
   "id": "b45e52a5-8db7-4702-a5ba-21c8af1713ee",
   "metadata": {},
   "source": [
    "# Data Science Tools and Ecosystem"
   ]
  },
  {
   "cell_type": "markdown",
   "id": "882ab697-0e6b-44c9-a5cf-b2be698da95e",
   "metadata": {},
   "source": [
    "## Author\n",
    "Matthew Roberts-Martinez"
   ]
  },
  {
   "cell_type": "markdown",
   "id": "c23c21b3-3ad3-4e1e-8d86-87e308fceff4",
   "metadata": {},
   "source": [
    "In this notebook, Data Science Tools and Ecosystem are summarized"
   ]
  },
  {
   "cell_type": "markdown",
   "id": "00613b3d-287f-402e-9378-652db85cfff4",
   "metadata": {},
   "source": [
    "**Objectives:**\n",
    "- List popular languages for Data Science\n",
    "- List commonly used libraries for Data Science\n",
    "- List some open-source tools for Data Science\n",
    "- Provide examples of arithmetic expressions"
   ]
  },
  {
   "cell_type": "markdown",
   "id": "0027c3a3-52b4-4d27-b1d3-3a0c805ca2ec",
   "metadata": {},
   "source": [
    "Some of the popular languages that Data Scientists use are:\n",
    "1. Julia\n",
    "2. Python\n",
    "3. R"
   ]
  },
  {
   "cell_type": "markdown",
   "id": "aa0af64e-f0d0-4c48-9856-8d5028b83bee",
   "metadata": {},
   "source": [
    "Some of the commonly used libraries used by Data Scientists include:\n",
    "1. Pandas\n",
    "2. NumPy\n",
    "3. PyTorch\n",
    "4. Apache Spark"
   ]
  },
  {
   "cell_type": "markdown",
   "id": "9b7075eb-a356-4e1e-b66e-78742fabc642",
   "metadata": {},
   "source": [
    "|Data Science Tools |\n",
    "|:---:|\n",
    "|Jupyter IDE|\n",
    "|R Studio|\n",
    "|Spyder|\n",
    "|Anaconda Navigator|"
   ]
  },
  {
   "cell_type": "markdown",
   "id": "a207cdaf-4af5-4a8c-bf22-32650800824b",
   "metadata": {},
   "source": [
    "### Below are a few examples of evaluating arithmetic expressions in Python"
   ]
  },
  {
   "cell_type": "markdown",
   "id": "30e05a9e-6ec2-4273-bd4f-21fcaf1ab3b4",
   "metadata": {},
   "source": [
    "This is a simple arithmetic expression to multiply then add integers."
   ]
  },
  {
   "cell_type": "code",
   "execution_count": 19,
   "id": "fe5487d4-8836-4a92-8420-3161800d6231",
   "metadata": {},
   "outputs": [
    {
     "data": {
      "text/plain": [
       "17"
      ]
     },
     "execution_count": 19,
     "metadata": {},
     "output_type": "execute_result"
    }
   ],
   "source": [
    "(3*4)+5"
   ]
  },
  {
   "cell_type": "markdown",
   "id": "99362f49-d711-462e-a627-18c217fc7953",
   "metadata": {},
   "source": [
    "This will convert 200 minutes to hours by dividing by 60"
   ]
  },
  {
   "cell_type": "code",
   "execution_count": 22,
   "id": "b802a650-d005-40a6-8a7e-15d914ffeed3",
   "metadata": {},
   "outputs": [
    {
     "data": {
      "text/plain": [
       "3.3333333333333335"
      ]
     },
     "execution_count": 22,
     "metadata": {},
     "output_type": "execute_result"
    }
   ],
   "source": [
    "200/60"
   ]
  },
  {
   "cell_type": "code",
   "execution_count": null,
   "id": "3474ecb9-9409-48ce-8c43-c83a118c9823",
   "metadata": {},
   "outputs": [],
   "source": []
  }
 ],
 "metadata": {
  "kernelspec": {
   "display_name": "Python 3 (ipykernel)",
   "language": "python",
   "name": "python3"
  },
  "language_info": {
   "codemirror_mode": {
    "name": "ipython",
    "version": 3
   },
   "file_extension": ".py",
   "mimetype": "text/x-python",
   "name": "python",
   "nbconvert_exporter": "python",
   "pygments_lexer": "ipython3",
   "version": "3.12.4"
  }
 },
 "nbformat": 4,
 "nbformat_minor": 5
}
